{
 "cells": [
  {
   "cell_type": "code",
   "execution_count": 11,
   "id": "27f03ca2",
   "metadata": {},
   "outputs": [],
   "source": [
    "import sys\n",
    "sys.path.append( '../sources/' )\n",
    "import network\n",
    "import sumolib\n",
    "import pandas as pd"
   ]
  },
  {
   "cell_type": "code",
   "execution_count": 12,
   "id": "c7bd8152",
   "metadata": {},
   "outputs": [],
   "source": [
    "net1 = sumolib.net.readNet(\"../../sumo_iland_map/iland.net\" ,withInternal=False)\n"
   ]
  },
  {
   "cell_type": "code",
   "execution_count": 13,
   "id": "06eabc6c",
   "metadata": {},
   "outputs": [],
   "source": [
    "mynet = network.Net()"
   ]
  },
  {
   "cell_type": "code",
   "execution_count": 14,
   "id": "517b5fc6",
   "metadata": {},
   "outputs": [],
   "source": [
    "mynet.importFromSumoNet(net1)"
   ]
  },
  {
   "cell_type": "code",
   "execution_count": 15,
   "id": "57727650",
   "metadata": {},
   "outputs": [],
   "source": [
    "n = mynet.getNodes()[0]"
   ]
  },
  {
   "cell_type": "code",
   "execution_count": 16,
   "id": "e8a60a05",
   "metadata": {},
   "outputs": [
    {
     "data": {
      "text/plain": [
       "<network.Node at 0x7fe2528a1c30>"
      ]
     },
     "execution_count": 16,
     "metadata": {},
     "output_type": "execute_result"
    }
   ],
   "source": [
    "n"
   ]
  },
  {
   "cell_type": "code",
   "execution_count": 17,
   "id": "02f7d229",
   "metadata": {},
   "outputs": [
    {
     "data": {
      "text/plain": [
       "'103850700'"
      ]
     },
     "execution_count": 17,
     "metadata": {},
     "output_type": "execute_result"
    }
   ],
   "source": [
    "n.getIncoming()[0].getID()"
   ]
  },
  {
   "cell_type": "code",
   "execution_count": 18,
   "id": "7080fe51",
   "metadata": {},
   "outputs": [
    {
     "data": {
      "text/plain": [
       "'-103850700'"
      ]
     },
     "execution_count": 18,
     "metadata": {},
     "output_type": "execute_result"
    }
   ],
   "source": [
    "n.getOutgoing()[0].getID()"
   ]
  },
  {
   "cell_type": "code",
   "execution_count": 19,
   "id": "eee440e8",
   "metadata": {},
   "outputs": [],
   "source": [
    "e = mynet.getEdges()[0]"
   ]
  },
  {
   "cell_type": "code",
   "execution_count": 20,
   "id": "4b042c14",
   "metadata": {},
   "outputs": [
    {
     "data": {
      "text/plain": [
       "[(2136.13, 2152.54), (2121.99, 2210.33)]"
      ]
     },
     "execution_count": 20,
     "metadata": {},
     "output_type": "execute_result"
    }
   ],
   "source": [
    "e.getIncoming()[0].getShape()"
   ]
  },
  {
   "cell_type": "code",
   "execution_count": 21,
   "id": "d603d616",
   "metadata": {},
   "outputs": [
    {
     "data": {
      "text/plain": [
       "(18.062519111068312, 59.3202946463373)"
      ]
     },
     "execution_count": 21,
     "metadata": {},
     "output_type": "execute_result"
    }
   ],
   "source": [
    "p = mynet.convertXY2LonLat(2136.13, 2152.54)\n",
    "p"
   ]
  },
  {
   "cell_type": "code",
   "execution_count": 22,
   "id": "34425f63",
   "metadata": {},
   "outputs": [
    {
     "data": {
      "text/plain": [
       "(2136.130000000063, 2152.5400000000373)"
      ]
     },
     "execution_count": 22,
     "metadata": {},
     "output_type": "execute_result"
    }
   ],
   "source": [
    "mynet.convertLonLat2XY(*p)"
   ]
  },
  {
   "cell_type": "code",
   "execution_count": 23,
   "id": "6d68b1ee",
   "metadata": {},
   "outputs": [
    {
     "name": "stdout",
     "output_type": "stream",
     "text": [
      "<network.Edge object at 0x7fe251ac0730> 22.785449739473435\n",
      "<network.Edge object at 0x7fe251ac2470> 21.570019601196194\n",
      "<network.Edge object at 0x7fe251b31d20> 23.35869217229423\n",
      "<network.Edge object at 0x7fe251b8b1c0> 23.35869217229423\n",
      "<network.Edge object at 0x7fe251b32ec0> 8.918843633778037\n",
      "<network.Edge object at 0x7fe251a22290> 8.918843633778037\n",
      "<network.Edge object at 0x7fe251ac0700> 25.188769322854803\n",
      "<network.Edge object at 0x7fe251ac2440> 23.35869217229423\n"
     ]
    }
   ],
   "source": [
    "r = 40\n",
    "for e, dist in mynet.getNeighboringEdges(*(2130,2130), r=r):\n",
    "    print(e, dist)"
   ]
  },
  {
   "cell_type": "code",
   "execution_count": 24,
   "id": "61a95d61",
   "metadata": {},
   "outputs": [
    {
     "data": {
      "text/plain": [
       "<network.Edge at 0x7fe251b31d20>"
      ]
     },
     "execution_count": 24,
     "metadata": {},
     "output_type": "execute_result"
    }
   ],
   "source": [
    "e_from = e.getIncoming()[0]\n",
    "e_from"
   ]
  },
  {
   "cell_type": "code",
   "execution_count": 25,
   "id": "81684727",
   "metadata": {},
   "outputs": [
    {
     "data": {
      "image/svg+xml": [
       "<svg xmlns=\"http://www.w3.org/2000/svg\" xmlns:xlink=\"http://www.w3.org/1999/xlink\" width=\"100.0\" height=\"100.0\" viewBox=\"18.062472222189786 59.32024775745878 0.0012659997201858175 0.00015930286917864578\" preserveAspectRatio=\"xMinYMin meet\"><g transform=\"matrix(1,0,0,-1,0,118.64065481778674)\"><polyline fill=\"none\" stroke=\"#66cc99\" stroke-width=\"2.5319994403716352e-05\" points=\"18.062519111068312,59.3202946463373 18.063477879103683,59.32035032622319 18.063691333031446,59.32036017144944\" opacity=\"0.8\" /></g></svg>"
      ],
      "text/plain": [
       "<LINESTRING (18.063 59.32, 18.063 59.32, 18.064 59.32)>"
      ]
     },
     "execution_count": 25,
     "metadata": {},
     "output_type": "execute_result"
    }
   ],
   "source": [
    "network.getGeoShape(e, mynet, fromedge=e_from)"
   ]
  },
  {
   "cell_type": "code",
   "execution_count": 26,
   "id": "c5f4006b",
   "metadata": {},
   "outputs": [
    {
     "data": {
      "text/plain": [
       "[(2136.13, 2152.54), (2190.94, 2156.33), (2203.13, 2156.89)]"
      ]
     },
     "execution_count": 26,
     "metadata": {},
     "output_type": "execute_result"
    }
   ],
   "source": [
    "network.combineShapesSumo(e,fromedge=e_from)"
   ]
  },
  {
   "cell_type": "code",
   "execution_count": 27,
   "id": "61e21f1f",
   "metadata": {},
   "outputs": [
    {
     "data": {
      "text/plain": [
       "[(2136.13, 2152.54), (2190.94, 2156.33), (2203.13, 2156.89)]"
      ]
     },
     "execution_count": 27,
     "metadata": {},
     "output_type": "execute_result"
    }
   ],
   "source": [
    "e.getShape()"
   ]
  },
  {
   "cell_type": "code",
   "execution_count": 28,
   "id": "b22c1814",
   "metadata": {},
   "outputs": [
    {
     "data": {
      "text/plain": [
       "[(2121.99, 2210.33), (2136.13, 2152.54)]"
      ]
     },
     "execution_count": 28,
     "metadata": {},
     "output_type": "execute_result"
    }
   ],
   "source": [
    "e_from.getShape()"
   ]
  },
  {
   "cell_type": "code",
   "execution_count": 29,
   "id": "cc3d85f2",
   "metadata": {},
   "outputs": [
    {
     "data": {
      "text/plain": [
       "[(2136.13, 2152.54), (2121.99, 2210.33)]"
      ]
     },
     "execution_count": 29,
     "metadata": {},
     "output_type": "execute_result"
    }
   ],
   "source": [
    "e_from.getIncoming()[0].getShape()"
   ]
  },
  {
   "cell_type": "code",
   "execution_count": 30,
   "id": "5967bee0",
   "metadata": {},
   "outputs": [
    {
     "data": {
      "image/svg+xml": [
       "<svg xmlns=\"http://www.w3.org/2000/svg\" xmlns:xlink=\"http://www.w3.org/1999/xlink\" width=\"100.0\" height=\"100.0\" viewBox=\"18.062472222189786 59.32024775745878 0.0012659997201858175 0.00015930286917864578\" preserveAspectRatio=\"xMinYMin meet\"><g transform=\"matrix(1,0,0,-1,0,118.64065481778674)\"><polyline fill=\"none\" stroke=\"#66cc99\" stroke-width=\"2.5319994403716352e-05\" points=\"18.062519111068312,59.3202946463373 18.063477879103683,59.32035032622319 18.063691333031446,59.32036017144944\" opacity=\"0.8\" /></g></svg>"
      ],
      "text/plain": [
       "<LINESTRING (18.063 59.32, 18.063 59.32, 18.064 59.32)>"
      ]
     },
     "execution_count": 30,
     "metadata": {},
     "output_type": "execute_result"
    }
   ],
   "source": [
    "network.getGeoShape(e,net=mynet)"
   ]
  }
 ],
 "metadata": {
  "kernelspec": {
   "display_name": "Python 3 (ipykernel)",
   "language": "python",
   "name": "python3"
  },
  "language_info": {
   "codemirror_mode": {
    "name": "ipython",
    "version": 3
   },
   "file_extension": ".py",
   "mimetype": "text/x-python",
   "name": "python",
   "nbconvert_exporter": "python",
   "pygments_lexer": "ipython3",
   "version": "3.10.6"
  }
 },
 "nbformat": 4,
 "nbformat_minor": 5
}
